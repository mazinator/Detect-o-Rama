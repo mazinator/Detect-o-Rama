{
 "cells": [
  {
   "cell_type": "markdown",
   "metadata": {},
   "source": [
    "## Build AWS image recognition enviornment\n",
    "This Python notebook creates an image recognition system on AWS as described in Ass3:\n",
    "- Creation of a S3 bucket\n",
    "- Creation of ECR registry\n",
    "- Creation of a Lambda function using build docker image\n",
    "- Creation of a S3 Notification Trigger for S3 Bucket"
   ]
  },
  {
   "cell_type": "code",
   "execution_count": 1,
   "metadata": {},
   "outputs": [],
   "source": [
    "import src.aws.utils as aws\n",
    "import subprocess"
   ]
  },
  {
   "cell_type": "code",
   "execution_count": 2,
   "metadata": {},
   "outputs": [],
   "source": [
    "REGION = 'us-west-2'"
   ]
  },
  {
   "cell_type": "markdown",
   "metadata": {},
   "source": [
    "### 1. Create a S3 Buckets and include necessery data"
   ]
  },
  {
   "cell_type": "code",
   "execution_count": 3,
   "metadata": {},
   "outputs": [],
   "source": [
    "S3_IMAGE_BUCKET_NAME = 'image-bucket-11920555'"
   ]
  },
  {
   "cell_type": "code",
   "execution_count": 4,
   "metadata": {},
   "outputs": [
    {
     "name": "stdout",
     "output_type": "stream",
     "text": [
      "Bucket already created.\n"
     ]
    }
   ],
   "source": [
    "aws.create_s3_bucket(S3_IMAGE_BUCKET_NAME, REGION) # create bucket to store images"
   ]
  },
  {
   "cell_type": "markdown",
   "metadata": {},
   "source": [
    "### 2. Ceate ECR Registry to deploy Lambda images on it"
   ]
  },
  {
   "cell_type": "code",
   "execution_count": 5,
   "metadata": {},
   "outputs": [],
   "source": [
    "ECR_REPOSITORY_NAME = 'repository-11920555'"
   ]
  },
  {
   "cell_type": "code",
   "execution_count": 6,
   "metadata": {},
   "outputs": [
    {
     "name": "stdout",
     "output_type": "stream",
     "text": [
      "Repository repository-11920555 already exists.\n",
      "Available ECR repositories:\n",
      "Repository Name: e11920555-repository, URI: 737977651766.dkr.ecr.us-west-2.amazonaws.com/e11920555-repository\n",
      "Repository Name: repository-11920555, URI: 737977651766.dkr.ecr.us-west-2.amazonaws.com/repository-11920555\n"
     ]
    }
   ],
   "source": [
    "aws.create_ecr_repository(ECR_REPOSITORY_NAME, REGION)\n",
    "aws.list_ecr_repositories(REGION) # list repositories"
   ]
  },
  {
   "cell_type": "markdown",
   "metadata": {},
   "source": [
    "### 3. Build & Push Lambda Image to Registry"
   ]
  },
  {
   "cell_type": "code",
   "execution_count": 7,
   "metadata": {},
   "outputs": [],
   "source": [
    "LAMBDA_SRC_PATH = 'src/aws/lambda/image-detection'\n",
    "IMAGE_NAME = \"737977651766.dkr.ecr.us-west-2.amazonaws.com/repository-11920555:latest\""
   ]
  },
  {
   "cell_type": "code",
   "execution_count": 8,
   "metadata": {},
   "outputs": [
    {
     "name": "stdout",
     "output_type": "stream",
     "text": [
      "Sending build context to Docker daemon  35.45MB\n",
      "Step 1/7 : FROM public.ecr.aws/lambda/python:3.11\n",
      " ---> 608dcfd6dc29\n",
      "Step 2/7 : RUN pip install boto3 opencv-python-headless numpy\n",
      " ---> Using cache\n",
      " ---> 1a70e81de666\n",
      "Step 3/7 : COPY yolov3-tiny.weights /opt/yolov3-tiny.weights\n",
      " ---> Using cache\n",
      " ---> 9c7739269e5b\n",
      "Step 4/7 : COPY yolov3-tiny.cfg /opt/yolov3-tiny.cfg\n",
      " ---> Using cache\n",
      " ---> b07ab28a0b3a\n",
      "Step 5/7 : COPY coco.names /opt/coco.names\n",
      " ---> Using cache\n",
      " ---> 7e4025421764\n",
      "Step 6/7 : COPY lambda_function.py ${LAMBDA_TASK_ROOT}\n",
      " ---> Using cache\n",
      " ---> f9586488165d\n",
      "Step 7/7 : CMD [\"lambda_function.lambda_handler\"]\n",
      " ---> Using cache\n",
      " ---> d8ae1dbe1e03\n",
      "Successfully built d8ae1dbe1e03\n",
      "Successfully tagged 737977651766.dkr.ecr.us-west-2.amazonaws.com/repository-11920555:latest\n"
     ]
    },
    {
     "name": "stderr",
     "output_type": "stream",
     "text": [
      "DEPRECATED: The legacy builder is deprecated and will be removed in a future release.\n",
      "            Install the buildx component to build images with BuildKit:\n",
      "            https://docs.docker.com/go/buildx/\n",
      "\n",
      "WARNING! Your password will be stored unencrypted in /home/taha/.docker/config.json.\n",
      "Configure a credential helper to remove this warning. See\n",
      "https://docs.docker.com/engine/reference/commandline/login/#credentials-store\n",
      "\n"
     ]
    },
    {
     "name": "stdout",
     "output_type": "stream",
     "text": [
      "Login Succeeded\n",
      "The push refers to repository [737977651766.dkr.ecr.us-west-2.amazonaws.com/repository-11920555]\n",
      "016059a887b3: Preparing\n",
      "cde2a5a33a2d: Preparing\n",
      "685137418bc4: Preparing\n",
      "0293a5a33d01: Preparing\n",
      "c01ca353716e: Preparing\n",
      "7c02691fbabf: Preparing\n",
      "4a1b8fb65012: Preparing\n",
      "e8e5c6e3f5d5: Preparing\n",
      "dfa013bd87d6: Preparing\n",
      "bdf365301f25: Preparing\n",
      "c8203e562a8c: Preparing\n",
      "7c02691fbabf: Waiting\n",
      "4a1b8fb65012: Waiting\n",
      "e8e5c6e3f5d5: Waiting\n",
      "bdf365301f25: Waiting\n",
      "dfa013bd87d6: Waiting\n",
      "c8203e562a8c: Waiting\n",
      "685137418bc4: Layer already exists\n",
      "016059a887b3: Layer already exists\n",
      "0293a5a33d01: Layer already exists\n",
      "c01ca353716e: Layer already exists\n",
      "cde2a5a33a2d: Layer already exists\n",
      "e8e5c6e3f5d5: Layer already exists\n",
      "dfa013bd87d6: Layer already exists\n",
      "4a1b8fb65012: Layer already exists\n",
      "7c02691fbabf: Layer already exists\n",
      "bdf365301f25: Layer already exists\n",
      "c8203e562a8c: Layer already exists\n",
      "latest: digest: sha256:5a6d73f0aebb10017c95b8e3d5bc42f23b0e3960a3ffc4ad75b87082851b620f size: 2626\n"
     ]
    },
    {
     "data": {
      "text/plain": [
       "CompletedProcess(args='docker push 737977651766.dkr.ecr.us-west-2.amazonaws.com/repository-11920555:latest', returncode=0)"
      ]
     },
     "execution_count": 8,
     "metadata": {},
     "output_type": "execute_result"
    }
   ],
   "source": [
    "subprocess.run(f\"docker build -t {IMAGE_NAME} {LAMBDA_SRC_PATH}\", shell=True, check=True)\n",
    "# HINT install aws cli locally\n",
    "subprocess.run(f\"aws ecr get-login-password --region {REGION} | docker login --username AWS --password-stdin {IMAGE_NAME}\", shell=True, check=True)\n",
    "subprocess.run(f\"docker push {IMAGE_NAME}\", shell=True, check=True)"
   ]
  },
  {
   "cell_type": "markdown",
   "metadata": {},
   "source": [
    "### 4. Create DynamoDB database"
   ]
  },
  {
   "cell_type": "code",
   "execution_count": 9,
   "metadata": {},
   "outputs": [],
   "source": [
    "TABLE_NAME = 'ImageRecognitionResults'"
   ]
  },
  {
   "cell_type": "code",
   "execution_count": 10,
   "metadata": {},
   "outputs": [
    {
     "name": "stdout",
     "output_type": "stream",
     "text": [
      "Table ImageRecognitionResults already exists. Deleting...\n",
      "Table ImageRecognitionResults deleted successfully.\n",
      "Creating ImageRecognitionResults table...\n",
      "Table ImageRecognitionResults created successfully.\n"
     ]
    }
   ],
   "source": [
    "aws.create_dynamodb_table(table_name=TABLE_NAME, region=REGION)"
   ]
  },
  {
   "cell_type": "markdown",
   "metadata": {},
   "source": [
    "### 5. Create Lambda Function"
   ]
  },
  {
   "cell_type": "markdown",
   "metadata": {},
   "source": [
    "#### a. Find appropiate IAM role we can use for the Lambda Function"
   ]
  },
  {
   "cell_type": "code",
   "execution_count": 11,
   "metadata": {},
   "outputs": [
    {
     "name": "stdout",
     "output_type": "stream",
     "text": [
      "Available IAM roles:\n",
      "Role Name: AWSServiceRoleForAPIGateway, ARN: arn:aws:iam::737977651766:role/aws-service-role/ops.apigateway.amazonaws.com/AWSServiceRoleForAPIGateway\n",
      "Role Name: AWSServiceRoleForAutoScaling, ARN: arn:aws:iam::737977651766:role/aws-service-role/autoscaling.amazonaws.com/AWSServiceRoleForAutoScaling\n",
      "Role Name: AWSServiceRoleForAWSCloud9, ARN: arn:aws:iam::737977651766:role/aws-service-role/cloud9.amazonaws.com/AWSServiceRoleForAWSCloud9\n",
      "Role Name: AWSServiceRoleForCloudWatchEvents, ARN: arn:aws:iam::737977651766:role/aws-service-role/events.amazonaws.com/AWSServiceRoleForCloudWatchEvents\n",
      "Role Name: AWSServiceRoleForElastiCache, ARN: arn:aws:iam::737977651766:role/aws-service-role/elasticache.amazonaws.com/AWSServiceRoleForElastiCache\n",
      "Role Name: AWSServiceRoleForElasticLoadBalancing, ARN: arn:aws:iam::737977651766:role/aws-service-role/elasticloadbalancing.amazonaws.com/AWSServiceRoleForElasticLoadBalancing\n",
      "Role Name: AWSServiceRoleForOrganizations, ARN: arn:aws:iam::737977651766:role/aws-service-role/organizations.amazonaws.com/AWSServiceRoleForOrganizations\n",
      "Role Name: AWSServiceRoleForRDS, ARN: arn:aws:iam::737977651766:role/aws-service-role/rds.amazonaws.com/AWSServiceRoleForRDS\n",
      "Role Name: AWSServiceRoleForSupport, ARN: arn:aws:iam::737977651766:role/aws-service-role/support.amazonaws.com/AWSServiceRoleForSupport\n",
      "Role Name: AWSServiceRoleForTrustedAdvisor, ARN: arn:aws:iam::737977651766:role/aws-service-role/trustedadvisor.amazonaws.com/AWSServiceRoleForTrustedAdvisor\n",
      "Role Name: c121298a2916915l6940471t1w73797765176-LambdaSLRRole-ZSAeGDV3kfgc, ARN: arn:aws:iam::737977651766:role/c121298a2916915l6940471t1w73797765176-LambdaSLRRole-ZSAeGDV3kfgc\n",
      "Role Name: EMR_AutoScaling_DefaultRole, ARN: arn:aws:iam::737977651766:role/EMR_AutoScaling_DefaultRole\n",
      "Role Name: EMR_DefaultRole, ARN: arn:aws:iam::737977651766:role/EMR_DefaultRole\n",
      "Role Name: EMR_EC2_DefaultRole, ARN: arn:aws:iam::737977651766:role/EMR_EC2_DefaultRole\n",
      "Role Name: EMR_Notebooks_DefaultRole, ARN: arn:aws:iam::737977651766:role/EMR_Notebooks_DefaultRole\n",
      "Role Name: LabRole, ARN: arn:aws:iam::737977651766:role/LabRole\n",
      "Role Name: myRedshiftRole, ARN: arn:aws:iam::737977651766:role/myRedshiftRole\n",
      "Role Name: RedshiftRole, ARN: arn:aws:iam::737977651766:role/RedshiftRole\n",
      "Role Name: RoleForLambdaModLabRole, ARN: arn:aws:iam::737977651766:role/RoleForLambdaModLabRole\n",
      "Role Name: vocareum, ARN: arn:aws:iam::737977651766:role/vocareum\n",
      "Role Name: vocareum-eventbridge, ARN: arn:aws:iam::737977651766:role/vocareum-eventbridge\n",
      "Role Name: voclabs, ARN: arn:aws:iam::737977651766:role/voclabs\n",
      "Role Name: vocstartsoft, ARN: arn:aws:iam::737977651766:role/vocstartsoft\n"
     ]
    }
   ],
   "source": [
    "aws.list_iam_roles()"
   ]
  },
  {
   "cell_type": "code",
   "execution_count": 12,
   "metadata": {},
   "outputs": [
    {
     "data": {
      "text/plain": [
       "[{'PolicyName': 'AmazonSSMManagedInstanceCore',\n",
       "  'PolicyArn': 'arn:aws:iam::aws:policy/AmazonSSMManagedInstanceCore'},\n",
       " {'PolicyName': 'AmazonEKSClusterPolicy',\n",
       "  'PolicyArn': 'arn:aws:iam::aws:policy/AmazonEKSClusterPolicy'},\n",
       " {'PolicyName': 'AmazonEC2ContainerRegistryReadOnly',\n",
       "  'PolicyArn': 'arn:aws:iam::aws:policy/AmazonEC2ContainerRegistryReadOnly'},\n",
       " {'PolicyName': 'AmazonEKSWorkerNodePolicy',\n",
       "  'PolicyArn': 'arn:aws:iam::aws:policy/AmazonEKSWorkerNodePolicy'},\n",
       " {'PolicyName': 'c121298a2916915l6940471t1w737977651766-VocLabPolicy2-lxspusYwziKw',\n",
       "  'PolicyArn': 'arn:aws:iam::737977651766:policy/c121298a2916915l6940471t1w737977651766-VocLabPolicy2-lxspusYwziKw'},\n",
       " {'PolicyName': 'c121298a2916915l6940471t1w737977651766-VocLabPolicy3-wnfau1xb1DEu',\n",
       "  'PolicyArn': 'arn:aws:iam::737977651766:policy/c121298a2916915l6940471t1w737977651766-VocLabPolicy3-wnfau1xb1DEu'},\n",
       " {'PolicyName': 'c121298a2916915l6940471t1w737977651766-VocLabPolicy1-yWqKAGIVy1iB',\n",
       "  'PolicyArn': 'arn:aws:iam::737977651766:policy/c121298a2916915l6940471t1w737977651766-VocLabPolicy1-yWqKAGIVy1iB'}]"
      ]
     },
     "execution_count": 12,
     "metadata": {},
     "output_type": "execute_result"
    }
   ],
   "source": [
    "aws.get_role_policies('LabRole')"
   ]
  },
  {
   "cell_type": "code",
   "execution_count": 13,
   "metadata": {},
   "outputs": [],
   "source": [
    "LAB_ROLE_ARN = 'arn:aws:iam::737977651766:role/LabRole'"
   ]
  },
  {
   "cell_type": "markdown",
   "metadata": {},
   "source": [
    "#### b. Create Lambda Function"
   ]
  },
  {
   "cell_type": "code",
   "execution_count": 14,
   "metadata": {},
   "outputs": [],
   "source": [
    "LAMBDA_FUNCTION_NAME = 'ImageRecognitionFunction'"
   ]
  },
  {
   "cell_type": "code",
   "execution_count": 15,
   "metadata": {},
   "outputs": [
    {
     "name": "stdout",
     "output_type": "stream",
     "text": [
      "Lambda function ImageRecognitionFunction deleted successfully.\n",
      "Lambda function ImageRecognitionFunction created.\n"
     ]
    },
    {
     "data": {
      "text/plain": [
       "{'ResponseMetadata': {'RequestId': '9e90937f-daba-45a7-8746-e5f4a139e8ff',\n",
       "  'HTTPStatusCode': 201,\n",
       "  'HTTPHeaders': {'date': 'Thu, 04 Jul 2024 19:13:18 GMT',\n",
       "   'content-type': 'application/json',\n",
       "   'content-length': '1201',\n",
       "   'connection': 'keep-alive',\n",
       "   'x-amzn-requestid': '9e90937f-daba-45a7-8746-e5f4a139e8ff'},\n",
       "  'RetryAttempts': 0},\n",
       " 'FunctionName': 'ImageRecognitionFunction',\n",
       " 'FunctionArn': 'arn:aws:lambda:us-west-2:737977651766:function:ImageRecognitionFunction',\n",
       " 'Role': 'arn:aws:iam::737977651766:role/LabRole',\n",
       " 'CodeSize': 0,\n",
       " 'Description': '',\n",
       " 'Timeout': 900,\n",
       " 'MemorySize': 1024,\n",
       " 'LastModified': '2024-07-04T19:13:17.745+0000',\n",
       " 'CodeSha256': '5a6d73f0aebb10017c95b8e3d5bc42f23b0e3960a3ffc4ad75b87082851b620f',\n",
       " 'Version': '11',\n",
       " 'TracingConfig': {'Mode': 'PassThrough'},\n",
       " 'RevisionId': '1f74596a-17bd-49b5-a5f0-b07e71fa3122',\n",
       " 'State': 'Pending',\n",
       " 'StateReason': 'The function is being created.',\n",
       " 'StateReasonCode': 'Creating',\n",
       " 'PackageType': 'Image',\n",
       " 'Architectures': ['x86_64'],\n",
       " 'EphemeralStorage': {'Size': 512},\n",
       " 'SnapStart': {'ApplyOn': 'None', 'OptimizationStatus': 'Off'},\n",
       " 'LoggingConfig': {'LogFormat': 'Text',\n",
       "  'LogGroup': '/aws/lambda/ImageRecognitionFunction'}}"
      ]
     },
     "execution_count": 15,
     "metadata": {},
     "output_type": "execute_result"
    }
   ],
   "source": [
    "aws.delete_lambda_function(LAMBDA_FUNCTION_NAME)\n",
    "aws.deploy_lambda_function(LAMBDA_FUNCTION_NAME, IMAGE_NAME, LAB_ROLE_ARN, 900, 1024, region=REGION)"
   ]
  },
  {
   "cell_type": "code",
   "execution_count": 16,
   "metadata": {},
   "outputs": [],
   "source": [
    "LAMBDA_FUNCTION_ARN = 'arn:aws:lambda:us-west-2:737977651766:function:ImageRecognitionFunction'"
   ]
  },
  {
   "cell_type": "markdown",
   "metadata": {},
   "source": [
    "### 5. Add S3 Bucket Trigger for Lambda"
   ]
  },
  {
   "cell_type": "code",
   "execution_count": null,
   "metadata": {},
   "outputs": [],
   "source": [
    "aws.create_s3_lambda_trigger(S3_IMAGE_BUCKET_NAME, LAMBDA_FUNCTION_ARN)"
   ]
  },
  {
   "cell_type": "markdown",
   "metadata": {},
   "source": [
    "### 6. Test Lambda function"
   ]
  },
  {
   "cell_type": "code",
   "execution_count": 18,
   "metadata": {},
   "outputs": [
    {
     "name": "stdout",
     "output_type": "stream",
     "text": [
      "File input_folder/000000000016.jpg uploaded to image-bucket-11920555/test.jpg.\n"
     ]
    }
   ],
   "source": [
    "aws.upload_file_to_s3(S3_IMAGE_BUCKET_NAME, 'input_folder/000000000016.jpg', 'test.jpg')"
   ]
  },
  {
   "cell_type": "code",
   "execution_count": 35,
   "metadata": {},
   "outputs": [
    {
     "name": "stdout",
     "output_type": "stream",
     "text": [
      "Log stream: 2024/07/04/[$LATEST]33cd36b1aa01437e82732652361be920\n",
      "START RequestId: 242204b3-7254-464d-8e0f-91e50aa1b870 Version: $LATEST\n",
      "\n",
      "{\"id\": \"test.jpg\", \"time\": 2.124650478363037, \"objects\": [{\"label\": \"person\", \"accuracy\": 0.8197214603424072}, {\"label\": \"sports ball\", \"accuracy\": 0.6291971802711487}]}\n",
      "\n",
      "Results stored in DynamoDB successfully\n",
      "\n",
      "END RequestId: 242204b3-7254-464d-8e0f-91e50aa1b870\n",
      "\n",
      "REPORT RequestId: 242204b3-7254-464d-8e0f-91e50aa1b870\tDuration: 2241.65 ms\tBilled Duration: 3619 ms\tMemory Size: 1024 MB\tMax Memory Used: 452 MB\tInit Duration: 1377.26 ms\t\n",
      "\n"
     ]
    }
   ],
   "source": [
    "aws.get_recent_lambda_logs(LAMBDA_FUNCTION_NAME)"
   ]
  },
  {
   "cell_type": "code",
   "execution_count": 34,
   "metadata": {},
   "outputs": [
    {
     "data": {
      "text/plain": [
       "[{'id': 'test.jpg',\n",
       "  'time': Decimal('2.124650478363037'),\n",
       "  'objects': [{'accuracy': Decimal('0.8197214603424072'), 'label': 'person'},\n",
       "   {'accuracy': Decimal('0.6291971802711487'), 'label': 'sports ball'}]}]"
      ]
     },
     "execution_count": 34,
     "metadata": {},
     "output_type": "execute_result"
    }
   ],
   "source": [
    "aws.read_dynamodb_table(TABLE_NAME)"
   ]
  }
 ],
 "metadata": {
  "kernelspec": {
   "display_name": "Python 3",
   "language": "python",
   "name": "python3"
  },
  "language_info": {
   "codemirror_mode": {
    "name": "ipython",
    "version": 3
   },
   "file_extension": ".py",
   "mimetype": "text/x-python",
   "name": "python",
   "nbconvert_exporter": "python",
   "pygments_lexer": "ipython3",
   "version": "3.11.9"
  }
 },
 "nbformat": 4,
 "nbformat_minor": 2
}
